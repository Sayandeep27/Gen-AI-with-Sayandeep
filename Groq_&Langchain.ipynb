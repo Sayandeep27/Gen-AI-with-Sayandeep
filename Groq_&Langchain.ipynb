{
  "nbformat": 4,
  "nbformat_minor": 0,
  "metadata": {
    "colab": {
      "provenance": []
    },
    "kernelspec": {
      "name": "python3",
      "display_name": "Python 3"
    },
    "language_info": {
      "name": "python"
    }
  },
  "cells": [
    {
      "cell_type": "code",
      "execution_count": 1,
      "metadata": {
        "colab": {
          "base_uri": "https://localhost:8080/"
        },
        "id": "nppl5SwA7hQ1",
        "outputId": "d2800a6a-f0bb-4b59-a14b-e75a57c1d82b"
      },
      "outputs": [
        {
          "output_type": "stream",
          "name": "stdout",
          "text": [
            "Requirement already satisfied: langchain in /usr/local/lib/python3.11/dist-packages (0.3.26)\n",
            "Collecting langchain-groq\n",
            "  Downloading langchain_groq-0.3.5-py3-none-any.whl.metadata (2.6 kB)\n",
            "Requirement already satisfied: langchain-core<1.0.0,>=0.3.66 in /usr/local/lib/python3.11/dist-packages (from langchain) (0.3.67)\n",
            "Requirement already satisfied: langchain-text-splitters<1.0.0,>=0.3.8 in /usr/local/lib/python3.11/dist-packages (from langchain) (0.3.8)\n",
            "Requirement already satisfied: langsmith>=0.1.17 in /usr/local/lib/python3.11/dist-packages (from langchain) (0.4.4)\n",
            "Requirement already satisfied: pydantic<3.0.0,>=2.7.4 in /usr/local/lib/python3.11/dist-packages (from langchain) (2.11.7)\n",
            "Requirement already satisfied: SQLAlchemy<3,>=1.4 in /usr/local/lib/python3.11/dist-packages (from langchain) (2.0.41)\n",
            "Requirement already satisfied: requests<3,>=2 in /usr/local/lib/python3.11/dist-packages (from langchain) (2.32.3)\n",
            "Requirement already satisfied: PyYAML>=5.3 in /usr/local/lib/python3.11/dist-packages (from langchain) (6.0.2)\n",
            "Collecting groq<1,>=0.29.0 (from langchain-groq)\n",
            "  Downloading groq-0.29.0-py3-none-any.whl.metadata (16 kB)\n",
            "Requirement already satisfied: anyio<5,>=3.5.0 in /usr/local/lib/python3.11/dist-packages (from groq<1,>=0.29.0->langchain-groq) (4.9.0)\n",
            "Requirement already satisfied: distro<2,>=1.7.0 in /usr/local/lib/python3.11/dist-packages (from groq<1,>=0.29.0->langchain-groq) (1.9.0)\n",
            "Requirement already satisfied: httpx<1,>=0.23.0 in /usr/local/lib/python3.11/dist-packages (from groq<1,>=0.29.0->langchain-groq) (0.28.1)\n",
            "Requirement already satisfied: sniffio in /usr/local/lib/python3.11/dist-packages (from groq<1,>=0.29.0->langchain-groq) (1.3.1)\n",
            "Requirement already satisfied: typing-extensions<5,>=4.10 in /usr/local/lib/python3.11/dist-packages (from groq<1,>=0.29.0->langchain-groq) (4.14.0)\n",
            "Requirement already satisfied: tenacity!=8.4.0,<10.0.0,>=8.1.0 in /usr/local/lib/python3.11/dist-packages (from langchain-core<1.0.0,>=0.3.66->langchain) (8.5.0)\n",
            "Requirement already satisfied: jsonpatch<2.0,>=1.33 in /usr/local/lib/python3.11/dist-packages (from langchain-core<1.0.0,>=0.3.66->langchain) (1.33)\n",
            "Requirement already satisfied: packaging<25,>=23.2 in /usr/local/lib/python3.11/dist-packages (from langchain-core<1.0.0,>=0.3.66->langchain) (24.2)\n",
            "Requirement already satisfied: orjson<4.0.0,>=3.9.14 in /usr/local/lib/python3.11/dist-packages (from langsmith>=0.1.17->langchain) (3.10.18)\n",
            "Requirement already satisfied: requests-toolbelt<2.0.0,>=1.0.0 in /usr/local/lib/python3.11/dist-packages (from langsmith>=0.1.17->langchain) (1.0.0)\n",
            "Requirement already satisfied: zstandard<0.24.0,>=0.23.0 in /usr/local/lib/python3.11/dist-packages (from langsmith>=0.1.17->langchain) (0.23.0)\n",
            "Requirement already satisfied: annotated-types>=0.6.0 in /usr/local/lib/python3.11/dist-packages (from pydantic<3.0.0,>=2.7.4->langchain) (0.7.0)\n",
            "Requirement already satisfied: pydantic-core==2.33.2 in /usr/local/lib/python3.11/dist-packages (from pydantic<3.0.0,>=2.7.4->langchain) (2.33.2)\n",
            "Requirement already satisfied: typing-inspection>=0.4.0 in /usr/local/lib/python3.11/dist-packages (from pydantic<3.0.0,>=2.7.4->langchain) (0.4.1)\n",
            "Requirement already satisfied: charset-normalizer<4,>=2 in /usr/local/lib/python3.11/dist-packages (from requests<3,>=2->langchain) (3.4.2)\n",
            "Requirement already satisfied: idna<4,>=2.5 in /usr/local/lib/python3.11/dist-packages (from requests<3,>=2->langchain) (3.10)\n",
            "Requirement already satisfied: urllib3<3,>=1.21.1 in /usr/local/lib/python3.11/dist-packages (from requests<3,>=2->langchain) (2.4.0)\n",
            "Requirement already satisfied: certifi>=2017.4.17 in /usr/local/lib/python3.11/dist-packages (from requests<3,>=2->langchain) (2025.6.15)\n",
            "Requirement already satisfied: greenlet>=1 in /usr/local/lib/python3.11/dist-packages (from SQLAlchemy<3,>=1.4->langchain) (3.2.3)\n",
            "Requirement already satisfied: httpcore==1.* in /usr/local/lib/python3.11/dist-packages (from httpx<1,>=0.23.0->groq<1,>=0.29.0->langchain-groq) (1.0.9)\n",
            "Requirement already satisfied: h11>=0.16 in /usr/local/lib/python3.11/dist-packages (from httpcore==1.*->httpx<1,>=0.23.0->groq<1,>=0.29.0->langchain-groq) (0.16.0)\n",
            "Requirement already satisfied: jsonpointer>=1.9 in /usr/local/lib/python3.11/dist-packages (from jsonpatch<2.0,>=1.33->langchain-core<1.0.0,>=0.3.66->langchain) (3.0.0)\n",
            "Downloading langchain_groq-0.3.5-py3-none-any.whl (15 kB)\n",
            "Downloading groq-0.29.0-py3-none-any.whl (130 kB)\n",
            "\u001b[2K   \u001b[90m━━━━━━━━━━━━━━━━━━━━━━━━━━━━━━━━━━━━━━━━\u001b[0m \u001b[32m130.8/130.8 kB\u001b[0m \u001b[31m12.7 MB/s\u001b[0m eta \u001b[36m0:00:00\u001b[0m\n",
            "\u001b[?25hInstalling collected packages: groq, langchain-groq\n",
            "Successfully installed groq-0.29.0 langchain-groq-0.3.5\n"
          ]
        }
      ],
      "source": [
        "!pip install langchain langchain-groq\n"
      ]
    },
    {
      "cell_type": "code",
      "source": [
        "from langchain_groq import ChatGroq"
      ],
      "metadata": {
        "id": "-6Bul99E7p28"
      },
      "execution_count": 2,
      "outputs": []
    },
    {
      "cell_type": "code",
      "source": [
        "# Initialize LangChain ChatGroq model with API key\n",
        "llm = ChatGroq(\n",
        "    groq_api_key=\"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\",\n",
        "    model_name=\"gemma2-9b-it\",  # or \"mixtral-8x7b\" / \"llama3-8b-8192\" / etc.\n",
        "    temperature=0.7\n",
        ")\n"
      ],
      "metadata": {
        "id": "ngRXL7lU7z3_"
      },
      "execution_count": 11,
      "outputs": []
    },
    {
      "cell_type": "code",
      "source": [
        "ans=llm.invoke(\"What are the benefits of tree plantation?\")"
      ],
      "metadata": {
        "id": "ScPTvZDA72Og"
      },
      "execution_count": 12,
      "outputs": []
    },
    {
      "cell_type": "code",
      "source": [
        "print(ans.content)"
      ],
      "metadata": {
        "colab": {
          "base_uri": "https://localhost:8080/"
        },
        "id": "l7R07NqJ8Hyq",
        "outputId": "2705261c-ba70-4955-c858-071ee912a50f"
      },
      "execution_count": 13,
      "outputs": [
        {
          "output_type": "stream",
          "name": "stdout",
          "text": [
            "Tree plantation offers a multitude of benefits, impacting various aspects of our environment, society, and economy. Here are some key advantages:\n",
            "\n",
            "**Environmental Benefits:**\n",
            "\n",
            "* **Carbon Sequestration:** Trees absorb carbon dioxide (CO2) from the atmosphere during photosynthesis, mitigating climate change and reducing greenhouse gas emissions.\n",
            "* **Air Purification:** Trees act as natural air filters, removing pollutants like ozone, sulfur dioxide, and nitrogen oxides, improving air quality and reducing respiratory problems.\n",
            "* **Water Conservation:** Trees help regulate water cycles by absorbing rainfall, reducing runoff, and replenishing groundwater. Their root systems prevent soil erosion and improve water infiltration.\n",
            "* **Biodiversity Support:** Trees provide habitats for a wide range of wildlife, including birds, insects, and mammals, contributing to biodiversity conservation.\n",
            "* **Soil Health:** Tree roots stabilize soil, prevent erosion, and enhance soil fertility by adding organic matter. \n",
            "\n",
            "**Social Benefits:**\n",
            "\n",
            "* **Improved Aesthetics:** Trees enhance the beauty of landscapes, creating pleasant surroundings and enhancing quality of life.\n",
            "* **Recreation and Health:** Trees provide spaces for recreation, relaxation, and physical activity, promoting mental and physical well-being.\n",
            "* **Climate Regulation:** Trees moderate temperature extremes, providing shade in hot weather and reducing wind chill in cold weather.\n",
            "* **Community Building:** Tree planting initiatives can bring communities together, fostering a sense of shared responsibility and environmental stewardship.\n",
            "\n",
            "**Economic Benefits:**\n",
            "\n",
            "* **Timber Production:** Trees can be harvested for timber, providing a source of renewable resources for construction, furniture, and other industries.\n",
            "* **Non-Timber Forest Products:** Trees yield various products like fruits, nuts, resins, and medicinal plants, contributing to livelihoods and local economies.\n",
            "* **Tourism and Recreation:** Trees attract tourists and contribute to the development of eco-tourism and recreational activities.\n",
            "* **Carbon Credits:** In some cases, tree plantation projects can generate carbon credits, providing financial incentives for carbon sequestration.\n",
            "\n",
            "\n",
            "Overall, tree plantation is a crucial strategy for promoting environmental sustainability, improving human well-being, and fostering economic development.\n",
            "\n",
            "\n"
          ]
        }
      ]
    },
    {
      "cell_type": "markdown",
      "source": [
        "# **Prompt Template**"
      ],
      "metadata": {
        "id": "1STfahFa8ogM"
      }
    },
    {
      "cell_type": "code",
      "source": [
        "from langchain_core.prompts import PromptTemplate"
      ],
      "metadata": {
        "id": "7paMBl_58r7q"
      },
      "execution_count": 14,
      "outputs": []
    },
    {
      "cell_type": "code",
      "source": [
        "template2 = PromptTemplate(\n",
        "    template='Greet this person in 5 languages. The name of the person is {name}',\n",
        "    input_variables=['name']\n",
        ")\n"
      ],
      "metadata": {
        "id": "bYBfnQDf8vMZ"
      },
      "execution_count": 15,
      "outputs": []
    },
    {
      "cell_type": "code",
      "source": [
        "# fill the values of the placeholders\n",
        "prompt = template2.invoke({'name':'nitish'})"
      ],
      "metadata": {
        "id": "fsoZHpTP8y5w"
      },
      "execution_count": 16,
      "outputs": []
    },
    {
      "cell_type": "code",
      "source": [
        "ans=llm.invoke(prompt)\n",
        "\n",
        "print(ans.content)"
      ],
      "metadata": {
        "colab": {
          "base_uri": "https://localhost:8080/"
        },
        "id": "GWEpiJtt81JI",
        "outputId": "1f148613-03ce-4c97-cf87-89b8101c74ec"
      },
      "execution_count": 17,
      "outputs": [
        {
          "output_type": "stream",
          "name": "stdout",
          "text": [
            "Here are greetings for Nitish in 5 different languages:\n",
            "\n",
            "1. **English:** Hello, Nitish!\n",
            "2. **Spanish:** Hola, Nitish!\n",
            "3. **French:** Bonjour, Nitish!\n",
            "4. **German:** Hallo, Nitish!\n",
            "5. **Japanese:** こんにちは、ニティシュさん (Konnichiwa, Nitish-san) \n",
            "\n",
            "\n",
            "Let me know if you'd like greetings in any other languages! \n",
            "\n"
          ]
        }
      ]
    },
    {
      "cell_type": "code",
      "source": [
        "template = \"Write a {tone} email to {recipient} about {topic}.\"\n",
        "prompt = PromptTemplate.from_template(template)\n",
        "\n",
        "final_prompt = prompt.format(tone=\"formal\", recipient=\"HR\", topic=\"job opportunity\")\n"
      ],
      "metadata": {
        "id": "oFuKEKOt87_w"
      },
      "execution_count": 18,
      "outputs": []
    },
    {
      "cell_type": "code",
      "source": [
        "ans=llm.invoke(final_prompt)\n",
        "\n",
        "print(ans.content)"
      ],
      "metadata": {
        "colab": {
          "base_uri": "https://localhost:8080/"
        },
        "id": "V7uBU9BG9Mq3",
        "outputId": "f98faf78-46e1-4e47-fd66-79c9a44be5c0"
      },
      "execution_count": 19,
      "outputs": [
        {
          "output_type": "stream",
          "name": "stdout",
          "text": [
            "**Subject: Application for [Job Title] Position - [Your Name]**\n",
            "\n",
            "Dear [HR Contact Name],\n",
            "\n",
            "I am writing to express my strong interest in the [Job Title] position currently advertised on [Platform where you saw the job posting, e.g., company website, LinkedIn]. With my [Number] years of experience in [Relevant industry/field] and proven track record in [Key skills and achievements], I am confident that I possess the necessary qualifications and enthusiasm to excel in this role and contribute significantly to [Company Name].\n",
            "\n",
            "In my previous role as [Your previous role] at [Your previous company], I was responsible for [ Briefly list 2-3 relevant responsibilities and achievements]. I am particularly proficient in [List 2-3 key skills mentioned in the job description] and have a strong understanding of [Mention relevant industry knowledge or software].\n",
            "\n",
            "I am eager to learn more about this opportunity and how my skills and experience can benefit [Company Name]. My resume, attached for your review, provides further details on my qualifications and accomplishments. Thank you for your time and consideration. I look forward to hearing from you soon.\n",
            "\n",
            "Sincerely,\n",
            "\n",
            "[Your Name]\n",
            "[Your Phone Number]\n",
            "[Your Email Address]\n",
            "\n",
            "\n",
            "\n",
            "**Remember to:**\n",
            "\n",
            "* **Tailor the email:**  Adjust the content to specifically match the requirements and responsibilities outlined in the job description.\n",
            "* **Proofread carefully:** Ensure there are no grammatical errors or typos.\n",
            "* **Use a professional tone:** Keep the language formal and courteous.\n",
            "* **Attach your resume:** Make sure it is updated and relevant to the position.\n",
            "* **Follow up:** If you don't hear back within a week, it's acceptable to send a polite follow-up email.\n",
            "\n"
          ]
        }
      ]
    },
    {
      "cell_type": "markdown",
      "source": [
        "# **Chat Prompt Template**"
      ],
      "metadata": {
        "id": "r_-bSC6d-EDY"
      }
    },
    {
      "cell_type": "code",
      "source": [
        "from langchain_core.prompts import ChatPromptTemplate"
      ],
      "metadata": {
        "id": "iiS1kngg-G7u"
      },
      "execution_count": 20,
      "outputs": []
    },
    {
      "cell_type": "code",
      "source": [
        "chat_template = ChatPromptTemplate([\n",
        "    ('system', 'You are a helpful {domain} expert'),\n",
        "    ('human', 'Explain in simple terms, what is {topic}')\n",
        "])\n"
      ],
      "metadata": {
        "id": "YbeqPl5I-Jlq"
      },
      "execution_count": 21,
      "outputs": []
    },
    {
      "cell_type": "code",
      "source": [
        "prompt = chat_template.invoke({'domain':'cricket','topic':'Dusra'})"
      ],
      "metadata": {
        "id": "e8saXhkn-Lyt"
      },
      "execution_count": 22,
      "outputs": []
    },
    {
      "cell_type": "code",
      "source": [
        "print(prompt)"
      ],
      "metadata": {
        "colab": {
          "base_uri": "https://localhost:8080/"
        },
        "id": "C6JDpfR2-Np9",
        "outputId": "fc9b808f-07ec-4050-c5b0-6f21660cc7d1"
      },
      "execution_count": 23,
      "outputs": [
        {
          "output_type": "stream",
          "name": "stdout",
          "text": [
            "messages=[SystemMessage(content='You are a helpful cricket expert', additional_kwargs={}, response_metadata={}), HumanMessage(content='Explain in simple terms, what is Dusra', additional_kwargs={}, response_metadata={})]\n"
          ]
        }
      ]
    },
    {
      "cell_type": "code",
      "source": [
        "ans=llm.invoke(prompt)\n",
        "\n",
        "print(ans.content)"
      ],
      "metadata": {
        "colab": {
          "base_uri": "https://localhost:8080/"
        },
        "id": "g8-v6CZC-PJ-",
        "outputId": "48e6358f-de16-4f52-afef-06d67b5cc8ac"
      },
      "execution_count": 24,
      "outputs": [
        {
          "output_type": "stream",
          "name": "stdout",
          "text": [
            "Imagine a cricket bowler bowling a ball that looks like a regular **off-spinner**, spinning away from the right-handed batsman. \n",
            "\n",
            "But then, **surprise!** The ball suddenly spins in the **opposite direction**, towards the batsman. \n",
            "\n",
            "That's a **Dusra**!  It's a special delivery that looks almost identical to an off-spinner but ends up spinning like a **left-arm leg-spinner**. \n",
            "\n",
            "It's a very tricky ball to bowl because it requires a lot of control and finesse.  Batters often get completely fooled by it, because they expect the ball to go one way and it suddenly goes the other! \n",
            "\n",
            "Think of it like a magician's trick - the bowler makes the ball appear to be one thing, but it's actually something else entirely. 🏏✨\n",
            "\n"
          ]
        }
      ]
    },
    {
      "cell_type": "markdown",
      "source": [
        "\n",
        "# **Message PlaceHolder**"
      ],
      "metadata": {
        "id": "e2zc7n7U-yRH"
      }
    },
    {
      "cell_type": "code",
      "source": [
        "# 1. Define a chat prompt with MessagesPlaceholder\n",
        "chat_prompt = ChatPromptTemplate.from_messages([\n",
        "    (\"system\", \"You are a helpful assistant.\"),\n",
        "    MessagesPlaceholder(variable_name=\"messages\")  # dynamic chat history\n",
        "])"
      ],
      "metadata": {
        "id": "55eYCtL7-8M6"
      },
      "execution_count": 29,
      "outputs": []
    },
    {
      "cell_type": "code",
      "source": [
        "# 3. Maintain a manual chat history\n",
        "chat_history = []\n"
      ],
      "metadata": {
        "id": "fXVDl5be-_yu"
      },
      "execution_count": 30,
      "outputs": []
    },
    {
      "cell_type": "code",
      "source": [
        "# 4. Chat loop\n",
        "while True:\n",
        "    user_input = input(\"You: \")\n",
        "    if user_input.lower() == \"exit\":\n",
        "        break\n",
        "\n",
        "    # Format the messages using prompt\n",
        "    messages = chat_prompt.format_messages(\n",
        "        messages=chat_history + [(\"human\", user_input)]\n",
        "    )\n",
        "\n",
        "    # Call the model directly\n",
        "    response = llm.invoke(messages)\n",
        "    print(\"AI:\", response.content)\n",
        "\n",
        "    # Add both user and AI messages to history\n",
        "    chat_history.append((\"human\", user_input))\n",
        "    chat_history.append((\"ai\", response.content))"
      ],
      "metadata": {
        "colab": {
          "base_uri": "https://localhost:8080/"
        },
        "id": "XghiH21E_W98",
        "outputId": "1a48e869-b5c6-45a3-9d27-f9ff2f20dab8"
      },
      "execution_count": 31,
      "outputs": [
        {
          "name": "stdout",
          "output_type": "stream",
          "text": [
            "You: Hi\n",
            "AI: Hi there! 👋  What can I do for you today? 😊  \n",
            "\n",
            "\n",
            "You: whats the capital of japan?\n",
            "AI: The capital of Japan is **Tokyo**.  🗼  \n",
            "\n",
            "\n",
            "Let me know if you have any other questions! 😄 \n",
            "\n",
            "You: how is the weather there?\n",
            "AI: I don't have access to real-time information, like the weather.  \n",
            "\n",
            "To get the current weather in Tokyo, I recommend checking a reliable weather website or app. ☀️🌧️❄️  \n",
            "\n",
            "You: No in general?\n",
            "AI: Tokyo has a humid subtropical climate,  meaning:\n",
            "\n",
            "* **Summers** are hot and humid, with average temperatures in the high 80s (°F) \n",
            "* **Winters** are mild and relatively dry, with average temperatures in the low 50s (°F)\n",
            "\n",
            "Spring and autumn are generally pleasant seasons with mild temperatures and lower humidity. 🌸🍂 \n",
            "\n",
            "Does that give you a general idea?\n",
            "\n",
            "You: exit\n"
          ]
        }
      ]
    },
    {
      "cell_type": "code",
      "source": [
        "print(chat_history)   # all our conversations have been stored in chat_history list, you can save this variable as a json file and then use that for diff files as well"
      ],
      "metadata": {
        "colab": {
          "base_uri": "https://localhost:8080/"
        },
        "id": "agxwymHz_qoY",
        "outputId": "2bbbb840-56f8-41e8-8a93-c19a26a26fbd"
      },
      "execution_count": 34,
      "outputs": [
        {
          "output_type": "stream",
          "name": "stdout",
          "text": [
            "[('human', 'Hi'), ('ai', 'Hi there! 👋  What can I do for you today? 😊  \\n\\n'), ('human', 'whats the capital of japan?'), ('ai', 'The capital of Japan is **Tokyo**.  🗼  \\n\\n\\nLet me know if you have any other questions! 😄 \\n'), ('human', 'how is the weather there?'), ('ai', \"I don't have access to real-time information, like the weather.  \\n\\nTo get the current weather in Tokyo, I recommend checking a reliable weather website or app. ☀️🌧️❄️  \\n\"), ('human', 'No in general?'), ('ai', 'Tokyo has a humid subtropical climate,  meaning:\\n\\n* **Summers** are hot and humid, with average temperatures in the high 80s (°F) \\n* **Winters** are mild and relatively dry, with average temperatures in the low 50s (°F)\\n\\nSpring and autumn are generally pleasant seasons with mild temperatures and lower humidity. 🌸🍂 \\n\\nDoes that give you a general idea?\\n')]\n"
          ]
        }
      ]
    },
    {
      "cell_type": "markdown",
      "source": [
        "# **Chatbot without the help of MessagePlaceholder**"
      ],
      "metadata": {
        "id": "oBGyh-C_B5dA"
      }
    },
    {
      "cell_type": "code",
      "source": [
        "from langchain_core.messages import SystemMessage, HumanMessage, AIMessage"
      ],
      "metadata": {
        "id": "9ndP8KteB6uH"
      },
      "execution_count": 35,
      "outputs": []
    },
    {
      "cell_type": "code",
      "source": [
        "chat_history = [\n",
        "    SystemMessage(content='You are a helpful AI assistant')\n",
        "]\n"
      ],
      "metadata": {
        "id": "GXwIGVaLB9Iu"
      },
      "execution_count": 36,
      "outputs": []
    },
    {
      "cell_type": "code",
      "source": [
        "while True:\n",
        "    user_input = input('You: ')\n",
        "    chat_history.append(HumanMessage(content=user_input))\n",
        "    if user_input == 'exit':\n",
        "        break\n",
        "    result = llm.invoke(chat_history)\n",
        "    chat_history.append(AIMessage(content=result.content))\n",
        "    print(\"AI: \",result.content)"
      ],
      "metadata": {
        "colab": {
          "base_uri": "https://localhost:8080/"
        },
        "id": "9tVRc0gsB_Ov",
        "outputId": "55020428-84a4-4c06-9d51-ee0187fdafe5"
      },
      "execution_count": 37,
      "outputs": [
        {
          "name": "stdout",
          "output_type": "stream",
          "text": [
            "You: hey\n",
            "AI:  Hey there! 👋  \n",
            "\n",
            "I'm happy to help. What can I do for you today? 😊  Just ask!  \n",
            "\n",
            "\n",
            "You: suggest me a beutiful city for a tour\n",
            "AI:  To give you the best suggestion, tell me:\n",
            "\n",
            "* **What kind of vibe are you looking for?**  (Romantic, historic, modern, vibrant, relaxed?)\n",
            "* **What are your interests?** (Art, food, history, architecture, nature?)\n",
            "* **What's your budget?** (Luxury, mid-range, budget-friendly?)\n",
            "* **When are you planning to travel?** (This can affect weather and crowds.)\n",
            "\n",
            "Once I know a little more about your preferences, I can recommend a beautiful city that's perfect for your tour! ✨ 🗺️  \n",
            "\n",
            "\n",
            "\n",
            "\n",
            "\n",
            "You: romantic\n",
            "AI:  Ooo, a romantic getaway!  ❤️\n",
            "\n",
            "Here are a few cities known for their charm and allure, perfect for a couple's trip:\n",
            "\n",
            "**Classic Romance:**\n",
            "\n",
            "* **Paris, France:**  The City of Love needs no introduction.  Stroll along the Seine, admire the Eiffel Tower, enjoy delicious pastries, and lose yourselves in the city's enchanting atmosphere.\n",
            "* **Venice, Italy:**  Gondola rides, picturesque canals, and stunning architecture make Venice a truly magical destination. Explore hidden alleyways, share a romantic dinner, and soak up the unique Venetian charm.\n",
            "\n",
            "**Unexpected Romance:**\n",
            "\n",
            "* **Santorini, Greece:**  White-washed houses clinging to volcanic cliffs, breathtaking sunsets over the Aegean Sea, and delicious Mediterranean cuisine create a picture-perfect romantic escape.\n",
            "* **Prague, Czech Republic:**  This fairytale city is filled with cobblestone streets, charming bridges, and stunning gothic architecture. Take a horse-drawn carriage ride, explore the historic Old Town Square, and enjoy the city's romantic ambiance.\n",
            "\n",
            "**Tell me:** \n",
            "\n",
            "* What kind of atmosphere are you envisioning? (Cozy, luxurious, adventurous?)\n",
            "* Are there any specific activities you'd like to do? (Fine dining, wine tasting, sightseeing?)\n",
            "\n",
            "I can help narrow down the options and find the perfect romantic city for your tour!\n",
            "\n",
            "\n",
            "\n",
            "\n",
            "You: paris\n",
            "AI:  Excellent choice! Paris is truly a city made for romance.  🗼❤️\n",
            "\n",
            "To help you plan your trip, tell me:\n",
            "\n",
            "* **What are your must-see sights in Paris?**  (Eiffel Tower, Louvre, Notre Dame, etc.?)\n",
            "* **What kind of budget are you working with?**  (This will help me suggest accommodations and dining options.)\n",
            "* **How long will you be in Paris?**  (A weekend getaway? A week-long exploration?)\n",
            "* **Are there any specific activities or experiences you're interested in?** (Cooking class, wine tasting, romantic walks, etc.?)\n",
            "\n",
            "The more information you give me, the better I can tailor your perfect Parisian romance!  🥂\n",
            "\n",
            "\n",
            "\n",
            "\n",
            "\n",
            "You: in which country it is?\n",
            "AI:  Paris is the capital of **France**.  🇫🇷  \n",
            "\n",
            "Did you know that France is also known as \"La Belle France,\" meaning \"The Beautiful France\"?  It's a fitting name, don't you think? 😉\n",
            "\n",
            "\n",
            "\n",
            "You: ohh, what are the other places nearby it\n",
            "AI:  Ah, you're thinking about exploring beyond Paris! Excellent idea.  France has so much to offer. Here are some beautiful places you could visit nearby:\n",
            "\n",
            "**Within a few hours by train:**\n",
            "\n",
            "* **Versailles:**  Home to the opulent Palace of Versailles, a marvel of French architecture and history. Just a short train ride from Paris, it's a must-see for any visitor to the area.\n",
            "* **Loire Valley:**  Famous for its stunning chateaux (castles), picturesque vineyards, and charming towns. Take a day trip or spend a few nights exploring this fairytale landscape.\n",
            "* **Normandy:**  A region steeped in history, with iconic landing beaches from World War II.  Visit Omaha Beach, the Bayeux Tapestry, and the charming town of Honfleur.\n",
            "\n",
            "**A bit further afield (but still reachable by train):**\n",
            "\n",
            "* **Lyon:** France's gastronomic capital, with a vibrant culinary scene and beautiful old town.\n",
            "* **Nice:**   A glamorous city on the French Riviera, known for its beaches, art museums, and delicious food.\n",
            "* **Mont Saint-Michel:**  A breathtaking island abbey, accessible by foot at low tide. A truly unique and unforgettable experience.\n",
            "\n",
            "**What interests you most?** History? Food? Wine? Nature? Let me know, and I can suggest specific places that align with your interests.  \n",
            "\n",
            "\n",
            "\n",
            "\n",
            "\n",
            "You: great Thanks\n",
            "AI:  You're very welcome!  \n",
            "\n",
            "I'm excited for you to explore France.  If you need any more suggestions or have any other questions, just ask.   Bon voyage!  🇫🇷 🧳 🎉\n",
            "\n",
            "You: exit\n"
          ]
        }
      ]
    },
    {
      "cell_type": "code",
      "source": [
        "print(chat_history)"
      ],
      "metadata": {
        "colab": {
          "base_uri": "https://localhost:8080/"
        },
        "id": "yHBxWJFvCCNi",
        "outputId": "2a1fff7b-040b-4304-9ea1-17313207d1ef"
      },
      "execution_count": 38,
      "outputs": [
        {
          "output_type": "stream",
          "name": "stdout",
          "text": [
            "[SystemMessage(content='You are a helpful AI assistant', additional_kwargs={}, response_metadata={}), HumanMessage(content='hey', additional_kwargs={}, response_metadata={}), AIMessage(content=\"Hey there! 👋  \\n\\nI'm happy to help. What can I do for you today? 😊  Just ask!  \\n\\n\", additional_kwargs={}, response_metadata={}), HumanMessage(content='suggest me a beutiful city for a tour', additional_kwargs={}, response_metadata={}), AIMessage(content=\"To give you the best suggestion, tell me:\\n\\n* **What kind of vibe are you looking for?**  (Romantic, historic, modern, vibrant, relaxed?)\\n* **What are your interests?** (Art, food, history, architecture, nature?)\\n* **What's your budget?** (Luxury, mid-range, budget-friendly?)\\n* **When are you planning to travel?** (This can affect weather and crowds.)\\n\\nOnce I know a little more about your preferences, I can recommend a beautiful city that's perfect for your tour! ✨ 🗺️  \\n\\n\\n\\n\\n\", additional_kwargs={}, response_metadata={}), HumanMessage(content='romantic', additional_kwargs={}, response_metadata={}), AIMessage(content=\"Ooo, a romantic getaway!  ❤️\\n\\nHere are a few cities known for their charm and allure, perfect for a couple's trip:\\n\\n**Classic Romance:**\\n\\n* **Paris, France:**  The City of Love needs no introduction.  Stroll along the Seine, admire the Eiffel Tower, enjoy delicious pastries, and lose yourselves in the city's enchanting atmosphere.\\n* **Venice, Italy:**  Gondola rides, picturesque canals, and stunning architecture make Venice a truly magical destination. Explore hidden alleyways, share a romantic dinner, and soak up the unique Venetian charm.\\n\\n**Unexpected Romance:**\\n\\n* **Santorini, Greece:**  White-washed houses clinging to volcanic cliffs, breathtaking sunsets over the Aegean Sea, and delicious Mediterranean cuisine create a picture-perfect romantic escape.\\n* **Prague, Czech Republic:**  This fairytale city is filled with cobblestone streets, charming bridges, and stunning gothic architecture. Take a horse-drawn carriage ride, explore the historic Old Town Square, and enjoy the city's romantic ambiance.\\n\\n**Tell me:** \\n\\n* What kind of atmosphere are you envisioning? (Cozy, luxurious, adventurous?)\\n* Are there any specific activities you'd like to do? (Fine dining, wine tasting, sightseeing?)\\n\\nI can help narrow down the options and find the perfect romantic city for your tour!\\n\\n\\n\\n\", additional_kwargs={}, response_metadata={}), HumanMessage(content='paris', additional_kwargs={}, response_metadata={}), AIMessage(content=\"Excellent choice! Paris is truly a city made for romance.  🗼❤️\\n\\nTo help you plan your trip, tell me:\\n\\n* **What are your must-see sights in Paris?**  (Eiffel Tower, Louvre, Notre Dame, etc.?)\\n* **What kind of budget are you working with?**  (This will help me suggest accommodations and dining options.)\\n* **How long will you be in Paris?**  (A weekend getaway? A week-long exploration?)\\n* **Are there any specific activities or experiences you're interested in?** (Cooking class, wine tasting, romantic walks, etc.?)\\n\\nThe more information you give me, the better I can tailor your perfect Parisian romance!  🥂\\n\\n\\n\\n\\n\", additional_kwargs={}, response_metadata={}), HumanMessage(content='in which country it is?', additional_kwargs={}, response_metadata={}), AIMessage(content='Paris is the capital of **France**.  🇫🇷  \\n\\nDid you know that France is also known as \"La Belle France,\" meaning \"The Beautiful France\"?  It\\'s a fitting name, don\\'t you think? 😉\\n\\n\\n', additional_kwargs={}, response_metadata={}), HumanMessage(content='ohh, what are the other places nearby it', additional_kwargs={}, response_metadata={}), AIMessage(content=\"Ah, you're thinking about exploring beyond Paris! Excellent idea.  France has so much to offer. Here are some beautiful places you could visit nearby:\\n\\n**Within a few hours by train:**\\n\\n* **Versailles:**  Home to the opulent Palace of Versailles, a marvel of French architecture and history. Just a short train ride from Paris, it's a must-see for any visitor to the area.\\n* **Loire Valley:**  Famous for its stunning chateaux (castles), picturesque vineyards, and charming towns. Take a day trip or spend a few nights exploring this fairytale landscape.\\n* **Normandy:**  A region steeped in history, with iconic landing beaches from World War II.  Visit Omaha Beach, the Bayeux Tapestry, and the charming town of Honfleur.\\n\\n**A bit further afield (but still reachable by train):**\\n\\n* **Lyon:** France's gastronomic capital, with a vibrant culinary scene and beautiful old town.\\n* **Nice:**   A glamorous city on the French Riviera, known for its beaches, art museums, and delicious food.\\n* **Mont Saint-Michel:**  A breathtaking island abbey, accessible by foot at low tide. A truly unique and unforgettable experience.\\n\\n**What interests you most?** History? Food? Wine? Nature? Let me know, and I can suggest specific places that align with your interests.  \\n\\n\\n\\n\\n\", additional_kwargs={}, response_metadata={}), HumanMessage(content='great Thanks', additional_kwargs={}, response_metadata={}), AIMessage(content=\"You're very welcome!  \\n\\nI'm excited for you to explore France.  If you need any more suggestions or have any other questions, just ask.   Bon voyage!  🇫🇷 🧳 🎉\\n\", additional_kwargs={}, response_metadata={}), HumanMessage(content='exit', additional_kwargs={}, response_metadata={})]\n"
          ]
        }
      ]
    },
    {
      "cell_type": "code",
      "source": [],
      "metadata": {
        "id": "80n8MADuCcmJ"
      },
      "execution_count": null,
      "outputs": []
    }
  ]
}